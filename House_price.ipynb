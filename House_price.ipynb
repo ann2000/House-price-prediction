{
 "cells": [
  {
   "cell_type": "code",
   "execution_count": 1,
   "metadata": {
    "tags": []
   },
   "outputs": [],
   "source": [
    "import pandas as pd\n",
    "import numpy as np\n",
    "import matplotlib.pyplot as plt\n",
    "from sklearn.model_selection import train_test_split\n",
    "from sklearn import linear_model\n",
    "from sklearn import metrics"
   ]
  },
  {
   "cell_type": "code",
   "execution_count": 2,
   "metadata": {
    "tags": []
   },
   
   "source": [
    "evaluation = pd.DataFrame({'Features':[],'MSE':[],'RMSE':[]})\n",
    "                           \n",
    "df = pd.read_csv('kc_house_data.csv')\n",
    "print(df)\n",
    "\n",
    "train_data,test_data = train_test_split(df,train_size = 0.85,random_state=3)\n",
    "\n",
    "features = ['sqft_living']\n",
    "\n",
    "lr = linear_model.LinearRegression()\n",
    "X_train = np.array(train_data['sqft_living'], dtype=pd.Series).reshape(-1,1)\n",
    "y_train = np.array(train_data['price'], dtype=pd.Series)\n",
    "lr.fit(X_train,y_train)\n",
    "\n",
    "X_test = np.array(test_data['sqft_living'], dtype=pd.Series).reshape(-1,1)\n",
    "y_test = np.array(test_data['price'], dtype=pd.Series)\n"
   ]
  },
  {
   "cell_type": "code",
   "execution_count": 3,
   "metadata": {
    "tags": []
   },
  
   "source": [
    "results = lr.predict(X_test)\n",
    "print(results, y_test,\"\\n\\n\")\n",
    "\n",
    "mse = np.mean((results-y_test)**2)\n",
    "rmse = np.sqrt(mse)\n",
    "\n",
    "r = evaluation.shape[0]\n",
    "evaluation.loc[r] = ['sqft_living', format(mse, '.3f'), rmse]\n",
    "print(evaluation)\n",
    "\n",
    "plt.figure(figsize=(6.5,5))\n",
    "plt.scatter(X_test,y_test,color='darkgreen',label=\"Data\", alpha=1)\n",
    "plt.plot(X_test,lr.predict(X_test),color=\"red\",label=\"Predicted Regression Line\")"
   ]
  },
  {
   "cell_type": "code",
   "execution_count": 4,
   "metadata": {
    "tags": []
   },

   "source": [
    "features = ['bedrooms','bathrooms','sqft_living','sqft_lot','floors','zipcode']\n",
    "\n",
    "complex_model = linear_model.LinearRegression()\n",
    "complex_model.fit(train_data[features],train_data['price'])\n",
    "\n",
    "results = complex_model.predict(test_data[features])\n",
    "\n",
    "mse = metrics.mean_squared_error(test_data['price'],results)\n",
    "rmse = np.sqrt(mse)\n",
    "\n",
    "r = evaluation.shape[0]\n",
    "evaluation.loc[r] = ['bedrooms,bathrooms,sqft_living,sqft_lot,floors,zipcode', format(mse, '.3f'), rmse]\n",
    "print(evaluation)"
   ]
  },
  {
   "cell_type": "code",
   "execution_count": 5,
   "metadata": {
    "tags": []
   },
   
   "source": [
    "features = ['sqft_living','sqft_lot','zipcode','lat','long']\n",
    "\n",
    "complex_model.fit(train_data[features],train_data['price'])\n",
    "\n",
    "results = complex_model.predict(test_data[features])\n",
    "\n",
    "mse = metrics.mean_squared_error(test_data['price'],results)\n",
    "rmse = np.sqrt(mse)\n",
    "\n",
    "r = evaluation.shape[0]\n",
    "evaluation.loc[r] = ['sqft_living,sqft_lot,zipcode,lat,long', format(mse, '.3f'), rmse]\n",
    "print(evaluation)"
   ]
  },
  {
   "cell_type": "code",
   "execution_count": 6,
   "metadata": {
    "tags": []
   },
  
   "source": [
    "features = ['sqft_living','sqft_lot','view','condition','grade','zipcode']\n",
    "\n",
    "complex_model.fit(train_data[features],train_data['price'])\n",
    "\n",
    "results = complex_model.predict(test_data[features])\n",
    "\n",
    "mse = metrics.mean_squared_error(test_data['price'],results)\n",
    "rmse = np.sqrt(mse)\n",
    "\n",
    "r = evaluation.shape[0]\n",
    "evaluation.loc[r] = ['sqft_living,sqft_lot,view,condition,grade,zipcode', format(mse, '.3f'), rmse]\n",
    "print(evaluation)"
   ]
  },
  {
   "cell_type": "code",
   "execution_count": 7,
   "metadata": {
    "tags": []
   },
   
   "source": [
    "features = ['bedrooms','bathrooms','sqft_living','sqft_lot','view','condition','grade','zipcode','floors']\n",
    "\n",
    "complex_model.fit(train_data[features],train_data['price'])\n",
    "\n",
    "results = complex_model.predict(test_data[features])\n",
    "\n",
    "mse = metrics.mean_squared_error(test_data['price'],results)\n",
    "rmse = np.sqrt(mse)\n",
    "\n",
    "r = evaluation.shape[0]\n",
    "evaluation.loc[r] = ['bedrooms,bathrooms,sqft_living,sqft_lot,view,condition,grade,zipcode,floors', format(mse, '.3f'), rmse]\n",
    "print(evaluation)"
   ]
  },
  {
   "cell_type": "code",
   "execution_count": 8,
   "metadata": {
    "tags": []
   },
   
   "source": [
    "features = ['bedrooms','bathrooms','sqft_living','sqft_lot','view','condition','grade','zipcode','floors','waterfront','sqft_above','sqft_basement','yr_built','yr_renovated','lat','long','sqft_living15','sqft_lot15']\n",
    "\n",
    "complex_model.fit(train_data[features],train_data['price'])\n",
    "\n",
    "results = complex_model.predict(test_data[features])\n",
    "\n",
    "mse = metrics.mean_squared_error(test_data['price'],results)\n",
    "rmse = np.sqrt(mse)\n",
    "\n",
    "r = evaluation.shape[0]\n",
    "evaluation.loc[r] = ['all features', format(mse, '.3f'), rmse]\n",
    "print(evaluation)"
   ]
  },
  {
   "cell_type": "code",
   "execution_count": null,
   "metadata": {},
   "outputs": [],
   "source": []
  }
 ],
 "metadata": {
  "language_info": {
   "codemirror_mode": {
    "name": "ipython",
    "version": 3
   },
   "file_extension": ".py",
   "mimetype": "text/x-python",
   "name": "python",
   "nbconvert_exporter": "python",
   "pygments_lexer": "ipython3",
   "version": "3.7.0-final"
  },
  "orig_nbformat": 2,
  "kernelspec": {
   "name": "python37032bitdc55cb50245547c6be644f76125353cc",
   "display_name": "Python 3.7.0 32-bit"
  }
 },
 "nbformat": 4,
 "nbformat_minor": 2
}
